{
  "nbformat": 4,
  "nbformat_minor": 0,
  "metadata": {
    "colab": {
      "provenance": [],
      "authorship_tag": "ABX9TyPU16N2Uq9xgVjunnfnG7/f",
      "include_colab_link": true
    },
    "kernelspec": {
      "name": "python3",
      "display_name": "Python 3"
    },
    "language_info": {
      "name": "python"
    }
  },
  "cells": [
    {
      "cell_type": "markdown",
      "metadata": {
        "id": "view-in-github",
        "colab_type": "text"
      },
      "source": [
        "<a href=\"https://colab.research.google.com/github/parkyanghu/Machine-Learning1901266/blob/main/1~4%EA%B0%95_%EB%B3%B5%EC%8A%B5%EA%B2%B8%EA%B3%B5%EB%B6%80%EC%9A%A9_%ED%8C%8C%EC%9D%BC.ipynb\" target=\"_parent\"><img src=\"https://colab.research.google.com/assets/colab-badge.svg\" alt=\"Open In Colab\"/></a>"
      ]
    },
    {
      "cell_type": "code",
      "execution_count": 3,
      "metadata": {
        "id": "zEr4ZrAf9dxG"
      },
      "outputs": [],
      "source": [
        "a=3\n",
        "b=10.3\n",
        "c=a+b\n"
      ]
    },
    {
      "cell_type": "code",
      "source": [
        "print(c)"
      ],
      "metadata": {
        "colab": {
          "base_uri": "https://localhost:8080/"
        },
        "id": "uSgslLiD9sMk",
        "outputId": "bb00ccb3-c88d-4ae0-b36b-aa729e1f2743"
      },
      "execution_count": 5,
      "outputs": [
        {
          "output_type": "stream",
          "name": "stdout",
          "text": [
            "13.3\n"
          ]
        }
      ]
    },
    {
      "cell_type": "code",
      "source": [
        "def fuctionName():\n",
        "  print(\"박양후\")\n",
        " "
      ],
      "metadata": {
        "id": "5HVUqbE79t7D"
      },
      "execution_count": 14,
      "outputs": []
    },
    {
      "cell_type": "code",
      "source": [
        "def greet():\n",
        "  print(\"Hello world\")"
      ],
      "metadata": {
        "colab": {
          "base_uri": "https://localhost:8080/"
        },
        "id": "t4ouK6LG9uZr",
        "outputId": "8f8af041-3515-4706-d03e-293e4645ffb6"
      },
      "execution_count": 12,
      "outputs": [
        {
          "output_type": "stream",
          "name": "stdout",
          "text": [
            "Hello world\n"
          ]
        }
      ]
    },
    {
      "cell_type": "code",
      "source": [
        "def greet3(age):\n",
        "  print('23','살')\n",
        "  print(age,'은 박양후님의 나이입니다.')"
      ],
      "metadata": {
        "id": "c60PFlaQ9utk"
      },
      "execution_count": 26,
      "outputs": []
    },
    {
      "cell_type": "code",
      "source": [
        "inputage='23살'\n",
        "greet3(inputage)"
      ],
      "metadata": {
        "colab": {
          "base_uri": "https://localhost:8080/"
        },
        "id": "uLfW9dai9vOU",
        "outputId": "d722cb3e-5f07-4824-c8fe-d4053b553775"
      },
      "execution_count": 27,
      "outputs": [
        {
          "output_type": "stream",
          "name": "stdout",
          "text": [
            "23 살\n",
            "23살 은 박양후님의 나이입니다.\n"
          ]
        }
      ]
    },
    {
      "cell_type": "code",
      "source": [
        "def adder(num1,num2):\n",
        "  sum=num1+num2\n",
        "  print('덧셈결과:',num1+num2)"
      ],
      "metadata": {
        "id": "JDUgC2v99vgb"
      },
      "execution_count": 34,
      "outputs": []
    },
    {
      "cell_type": "code",
      "source": [
        "adder(1,2)"
      ],
      "metadata": {
        "colab": {
          "base_uri": "https://localhost:8080/"
        },
        "id": "PNsHvV_j9vyk",
        "outputId": "d4dc5bc1-9d8a-4751-dde8-22494a3cb285"
      },
      "execution_count": 36,
      "outputs": [
        {
          "output_type": "stream",
          "name": "stdout",
          "text": [
            "덧셈결과: 3\n"
          ]
        }
      ]
    },
    {
      "cell_type": "code",
      "source": [
        "def minus(num3,num4):\n",
        " imsub=num3-num4\n",
        " print(\"뻴셈결과:\",num3-num4)\n",
        " "
      ],
      "metadata": {
        "id": "lkvDBUhp9wF8"
      },
      "execution_count": 37,
      "outputs": []
    },
    {
      "cell_type": "code",
      "source": [
        "minus(20,10)"
      ],
      "metadata": {
        "colab": {
          "base_uri": "https://localhost:8080/"
        },
        "id": "73bafEkR9woz",
        "outputId": "8c56ce37-a0e9-41aa-a42a-5129d327da90"
      },
      "execution_count": 38,
      "outputs": [
        {
          "output_type": "stream",
          "name": "stdout",
          "text": [
            "뻴셈결과: 10\n"
          ]
        }
      ]
    },
    {
      "cell_type": "code",
      "source": [
        "dkahfmrptek=minus(10,20)"
      ],
      "metadata": {
        "colab": {
          "base_uri": "https://localhost:8080/"
        },
        "id": "npGEVQgL9w80",
        "outputId": "39e4744a-36bd-44ea-d7bb-c69383f5ce06"
      },
      "execution_count": 39,
      "outputs": [
        {
          "output_type": "stream",
          "name": "stdout",
          "text": [
            "뻴셈결과: -10\n"
          ]
        }
      ]
    },
    {
      "cell_type": "code",
      "source": [
        "print(dkahfmrptek)"
      ],
      "metadata": {
        "colab": {
          "base_uri": "https://localhost:8080/"
        },
        "id": "SpEs_Jaq9xXc",
        "outputId": "555c48f1-7b2e-43b1-efdd-6efee3ba21dd"
      },
      "execution_count": 40,
      "outputs": [
        {
          "output_type": "stream",
          "name": "stdout",
          "text": [
            "None\n"
          ]
        }
      ]
    },
    {
      "cell_type": "code",
      "source": [
        "def adder(num5,num6):\n",
        "  sum=num5+num6\n",
        "  return sum\n",
        "def main():\n",
        "  print(adder(5,6))"
      ],
      "metadata": {
        "id": "2p_D7EHA9xmk"
      },
      "execution_count": 51,
      "outputs": []
    },
    {
      "cell_type": "code",
      "source": [
        "main()"
      ],
      "metadata": {
        "colab": {
          "base_uri": "https://localhost:8080/"
        },
        "id": "5h4TidjH9yCT",
        "outputId": "0d6f4b65-8192-4df8-9a59-54ca586e214e"
      },
      "execution_count": 52,
      "outputs": [
        {
          "output_type": "stream",
          "name": "stdout",
          "text": [
            "11\n"
          ]
        }
      ]
    },
    {
      "cell_type": "code",
      "source": [
        "result=eval(input(\"그것을 넣어볼까요?\"))"
      ],
      "metadata": {
        "colab": {
          "base_uri": "https://localhost:8080/"
        },
        "id": "xqzFLuUL9yJT",
        "outputId": "9055ce77-d070-4018-f6c4-2945880db246"
      },
      "execution_count": 54,
      "outputs": [
        {
          "name": "stdout",
          "output_type": "stream",
          "text": [
            "그것을 넣어볼까요?1+3+4+5\n"
          ]
        }
      ]
    },
    {
      "cell_type": "code",
      "source": [
        "result"
      ],
      "metadata": {
        "colab": {
          "base_uri": "https://localhost:8080/"
        },
        "id": "sK2whjSQ9yN0",
        "outputId": "da1e40eb-fa44-441c-b7fe-66657db558a4"
      },
      "execution_count": 55,
      "outputs": [
        {
          "output_type": "execute_result",
          "data": {
            "text/plain": [
              "13"
            ]
          },
          "metadata": {},
          "execution_count": 55
        }
      ]
    },
    {
      "cell_type": "code",
      "source": [
        "def greet_three_times():\n",
        " print('안녕?')\n",
        " print('뭐해?')\n",
        " print('잘지내?')"
      ],
      "metadata": {
        "id": "hleGK3xR9ySM"
      },
      "execution_count": 59,
      "outputs": []
    },
    {
      "cell_type": "code",
      "source": [
        "greet_three_times()"
      ],
      "metadata": {
        "colab": {
          "base_uri": "https://localhost:8080/"
        },
        "id": "lsFdNPZp9yV0",
        "outputId": "583072d4-358c-4909-f1cf-7c9d486f7ffc"
      },
      "execution_count": 61,
      "outputs": [
        {
          "output_type": "stream",
          "name": "stdout",
          "text": [
            "안녕?\n",
            "뭐해?\n",
            "잘지내?\n"
          ]
        }
      ]
    },
    {
      "cell_type": "code",
      "source": [
        "def greet_30(num9):\n",
        "  if (num9>0):\n",
        "    print('안녕')\n",
        "    num9=num9-1\n",
        "    greet_30(num9)"
      ],
      "metadata": {
        "id": "9m2Ge9CE9yZV"
      },
      "execution_count": 70,
      "outputs": []
    },
    {
      "cell_type": "code",
      "source": [
        "greet_30(5)"
      ],
      "metadata": {
        "colab": {
          "base_uri": "https://localhost:8080/"
        },
        "id": "G0J0jp1T9ycz",
        "outputId": "ed0f9d95-a9a7-460a-8146-358a23e9e13a"
      },
      "execution_count": 76,
      "outputs": [
        {
          "output_type": "stream",
          "name": "stdout",
          "text": [
            "안녕\n",
            "안녕\n",
            "안녕\n",
            "안녕\n",
            "안녕\n"
          ]
        }
      ]
    },
    {
      "cell_type": "code",
      "source": [
        "import random"
      ],
      "metadata": {
        "id": "lOiVCZRt9ygE"
      },
      "execution_count": 77,
      "outputs": []
    },
    {
      "cell_type": "code",
      "source": [
        "NUMMBER_OF_TRIALS=5000000"
      ],
      "metadata": {
        "id": "0UykYDSL9ynr"
      },
      "execution_count": null,
      "outputs": []
    },
    {
      "cell_type": "code",
      "source": [
        "numberofhits=0"
      ],
      "metadata": {
        "id": "rJPwhZ_xIrvy"
      },
      "execution_count": null,
      "outputs": []
    },
    {
      "cell_type": "code",
      "source": [
        " for i in range(NUMMBER_OF_TRIALS):\n",
        "   x=random.random()*2-1\n",
        "   y=random.random()*2-1"
      ],
      "metadata": {
        "id": "oeBEcfa-9yjc"
      },
      "execution_count": null,
      "outputs": []
    },
    {
      "cell_type": "code",
      "source": [
        "if x*x+y*y<=1:\n",
        "  numberofhits+=1"
      ],
      "metadata": {
        "id": "vGDG5VNG9yq7"
      },
      "execution_count": null,
      "outputs": []
    },
    {
      "cell_type": "code",
      "source": [
        "pi=4*numberofhits/NUMMBER_OF_TRIALS"
      ],
      "metadata": {
        "id": "jF8guz1T9yuU"
      },
      "execution_count": null,
      "outputs": []
    },
    {
      "cell_type": "code",
      "source": [
        "print(\"pi는\",pi,\"입니다\")"
      ],
      "metadata": {
        "id": "vTLTwrwT9yxk"
      },
      "execution_count": null,
      "outputs": []
    },
    {
      "cell_type": "code",
      "source": [],
      "metadata": {
        "id": "nEv-Cp8l9y00"
      },
      "execution_count": null,
      "outputs": []
    },
    {
      "cell_type": "code",
      "source": [],
      "metadata": {
        "id": "rGu4TNQW9y38"
      },
      "execution_count": null,
      "outputs": []
    },
    {
      "cell_type": "code",
      "source": [],
      "metadata": {
        "id": "kzuuGSek9y67"
      },
      "execution_count": null,
      "outputs": []
    },
    {
      "cell_type": "code",
      "source": [],
      "metadata": {
        "id": "WPxWiz0-9zmT"
      },
      "execution_count": null,
      "outputs": []
    },
    {
      "cell_type": "code",
      "source": [],
      "metadata": {
        "id": "xJGC3iRI9zpX"
      },
      "execution_count": null,
      "outputs": []
    },
    {
      "cell_type": "markdown",
      "source": [],
      "metadata": {
        "id": "cBryDtZ69zsU"
      }
    },
    {
      "cell_type": "code",
      "source": [],
      "metadata": {
        "id": "aRzSTTqO9zyL"
      },
      "execution_count": null,
      "outputs": []
    },
    {
      "cell_type": "code",
      "source": [],
      "metadata": {
        "id": "pjoCPO-D9z0z"
      },
      "execution_count": null,
      "outputs": []
    },
    {
      "cell_type": "code",
      "source": [],
      "metadata": {
        "id": "tis1XcCl9z3r"
      },
      "execution_count": null,
      "outputs": []
    }
  ]
}