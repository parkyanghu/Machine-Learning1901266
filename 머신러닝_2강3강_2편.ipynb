{
  "cells": [
    {
      "cell_type": "markdown",
      "metadata": {
        "id": "view-in-github",
        "colab_type": "text"
      },
      "source": [
        "<a href=\"https://colab.research.google.com/github/parkyanghu/Machine-Learning1901266/blob/main/%EB%A8%B8%EC%8B%A0%EB%9F%AC%EB%8B%9D_2%EA%B0%953%EA%B0%95_2%ED%8E%B8.ipynb\" target=\"_parent\"><img src=\"https://colab.research.google.com/assets/colab-badge.svg\" alt=\"Open In Colab\"/></a>"
      ]
    },
    {
      "cell_type": "code",
      "source": [
        "def func(n):\n",
        "  lv=n+1\n",
        "  print(lv)\n",
        "func(12)"
      ],
      "metadata": {
        "id": "EfC9WVdpiSos",
        "outputId": "54e905bb-a480-4683-8f44-cf24c4a83920",
        "colab": {
          "base_uri": "https://localhost:8080/"
        }
      },
      "execution_count": null,
      "outputs": [
        {
          "output_type": "stream",
          "name": "stdout",
          "text": [
            "13\n"
          ]
        }
      ]
    },
    {
      "cell_type": "code",
      "source": [
        "print(lv)"
      ],
      "metadata": {
        "id": "9JEd5jediTvE",
        "outputId": "9efbe396-000f-4d26-e49f-070b58b21661",
        "colab": {
          "base_uri": "https://localhost:8080/",
          "height": 174
        }
      },
      "execution_count": null,
      "outputs": [
        {
          "output_type": "error",
          "ename": "NameError",
          "evalue": "ignored",
          "traceback": [
            "\u001b[0;31m---------------------------------------------------------------------------\u001b[0m",
            "\u001b[0;31mNameError\u001b[0m                                 Traceback (most recent call last)",
            "\u001b[0;32m<ipython-input-3-c2619d26e931>\u001b[0m in \u001b[0;36m<module>\u001b[0;34m\u001b[0m\n\u001b[0;32m----> 1\u001b[0;31m \u001b[0mprint\u001b[0m\u001b[0;34m(\u001b[0m\u001b[0mlv\u001b[0m\u001b[0;34m)\u001b[0m\u001b[0;34m\u001b[0m\u001b[0;34m\u001b[0m\u001b[0m\n\u001b[0m",
            "\u001b[0;31mNameError\u001b[0m: name 'lv' is not defined"
          ]
        }
      ]
    },
    {
      "cell_type": "code",
      "source": [
        "n=10\n",
        "\n",
        "def func2():\n",
        "  lv=n+1\n",
        "  print(lv)\n",
        "\n",
        "func2()"
      ],
      "metadata": {
        "id": "1FRS53usiTxg",
        "outputId": "e52b267a-467b-4aab-d56f-f1a570ae9816",
        "colab": {
          "base_uri": "https://localhost:8080/"
        }
      },
      "execution_count": null,
      "outputs": [
        {
          "output_type": "stream",
          "name": "stdout",
          "text": [
            "11\n"
          ]
        }
      ]
    },
    {
      "cell_type": "code",
      "source": [
        "n=10\n",
        "\n",
        "def func2():\n",
        "  n=0\n",
        "  lv=n+1\n",
        "  print(lv)\n",
        "\n",
        "func2()"
      ],
      "metadata": {
        "id": "BIyGXWtZiTze",
        "outputId": "819ff4ed-d9ca-47df-c55b-77c35c5d0a1c",
        "colab": {
          "base_uri": "https://localhost:8080/"
        }
      },
      "execution_count": null,
      "outputs": [
        {
          "output_type": "stream",
          "name": "stdout",
          "text": [
            "1\n"
          ]
        }
      ]
    },
    {
      "cell_type": "code",
      "source": [
        "print(n)"
      ],
      "metadata": {
        "id": "NF7yp8MsiT1k",
        "outputId": "a1d71764-a7d7-4fd3-d0fb-02f0130354f7",
        "colab": {
          "base_uri": "https://localhost:8080/"
        }
      },
      "execution_count": null,
      "outputs": [
        {
          "output_type": "stream",
          "name": "stdout",
          "text": [
            "10\n"
          ]
        }
      ]
    },
    {
      "cell_type": "code",
      "source": [
        "n=10\n",
        "\n",
        "def func2():\n",
        "  global n\n",
        "  n=0\n",
        "  lv=n+1\n",
        "  print(lv)\n",
        "\n",
        "func2()"
      ],
      "metadata": {
        "id": "m8ly1X4xjQCd",
        "outputId": "65264eb9-9c15-4c77-a99d-32622d8118a4",
        "colab": {
          "base_uri": "https://localhost:8080/"
        }
      },
      "execution_count": null,
      "outputs": [
        {
          "output_type": "stream",
          "name": "stdout",
          "text": [
            "1\n"
          ]
        }
      ]
    },
    {
      "cell_type": "code",
      "source": [
        "print(n)"
      ],
      "metadata": {
        "id": "cBLx5A57jQEk",
        "outputId": "88d446b9-0974-4e33-d835-b7bbecb1775d",
        "colab": {
          "base_uri": "https://localhost:8080/"
        }
      },
      "execution_count": null,
      "outputs": [
        {
          "output_type": "stream",
          "name": "stdout",
          "text": [
            "0\n"
          ]
        }
      ]
    },
    {
      "cell_type": "code",
      "source": [
        "fa_age=39\n",
        "def up_fa_age():\n",
        "  global fa_age\n",
        "  fa_age +=1\n",
        "\n",
        "def get_fa_age():\n",
        "  return  fa_age\n",
        "\n",
        "print(\"2019년\")\n",
        "print(\"아빠:\", get_fa_age())\n",
        "print(\"2020년\")\n",
        "up_fa_age()\n",
        "print(\"아빠:\",get_fa_age())\n"
      ],
      "metadata": {
        "id": "_OWmF4CxjQG0",
        "outputId": "29a232da-5000-4c5a-d880-296059c4186e",
        "colab": {
          "base_uri": "https://localhost:8080/"
        }
      },
      "execution_count": null,
      "outputs": [
        {
          "output_type": "stream",
          "name": "stdout",
          "text": [
            "2019년\n",
            "아빠: 39\n",
            "2020년\n",
            "아빠: 40\n"
          ]
        }
      ]
    },
    {
      "cell_type": "code",
      "source": [
        "class ageinfo:\n",
        "  def up_age(self):\n",
        "   self.age +=1\n",
        "  def get_age(self):\n",
        "   return self.age\n"
      ],
      "metadata": {
        "id": "vU-iSylmjQIs"
      },
      "execution_count": null,
      "outputs": []
    },
    {
      "cell_type": "code",
      "source": [
        "fa=ageinfo()\n",
        "mo=ageinfo()\n",
        "me=ageinfo()\n",
        "\n",
        "fa.age=50\n",
        "mo.age=49\n",
        "me.age=30\n",
        "\n",
        "print(\"아빠의 나이:\", fa.get_age())\n",
        "print(\"엄마의 나이:\", mo.get_age())\n",
        "print(\"누나의 나이:\", me.get_age())\n",
        "\n",
        "print(\"1년 뒤...\")\n",
        "fa.up_age()\n",
        "mo.get_age()\n",
        "me.get_age()\n",
        "print(\"아빠의 나이: \",fa.get_age())\n",
        "print(\"엄마의 나이:\", mo.get_age())\n",
        "print(\"누나의 나이:\", me.get_age())"
      ],
      "metadata": {
        "id": "4G0zrHw_jQKt",
        "outputId": "65730d4c-781c-44c8-9307-ed87884d54e8",
        "colab": {
          "base_uri": "https://localhost:8080/"
        }
      },
      "execution_count": null,
      "outputs": [
        {
          "output_type": "stream",
          "name": "stdout",
          "text": [
            "아빠의 나이: 50\n",
            "엄마의 나이: 49\n",
            "누나의 나이: 30\n",
            "1년 뒤...\n",
            "아빠의 나이:  51\n",
            "엄마의 나이: 49\n",
            "누나의 나이: 30\n"
          ]
        }
      ]
    },
    {
      "cell_type": "code",
      "source": [
        "fa=ageinfo()\n",
        "mo=ageinfo()\n",
        "me=ageinfo()\n",
        "\n",
        "fa.age=50\n",
        "mo.age=49\n",
        "me.age=30\n"
      ],
      "metadata": {
        "id": "cXPUkPdejQM2"
      },
      "execution_count": null,
      "outputs": []
    },
    {
      "cell_type": "code",
      "source": [
        "import math\n",
        "import matplotlib.pyplot as plt\n",
        "class sin_graph:\n",
        "  def generate_x_y(self):\n",
        "    self.x=[]\n",
        "    self.y=[]\n",
        "    self.dx=(self.end-self.st)/(self.n-1)\n",
        "    for i in range(self.n):\n",
        "      x=self.st+slef.dx*1\n",
        "      self.x.append(x_)\n",
        "      self.y.append(math.sin(x_))\n",
        "  def plot(self):\n",
        "   plt.plot(self.x,self.y)\n",
        "   plt.show()"
      ],
      "metadata": {
        "id": "u9OyUnDCjQO8"
      },
      "execution_count": null,
      "outputs": []
    },
    {
      "cell_type": "code",
      "source": [
        "class sin_graph:\n",
        "  def setting(self, st, ed, n):\n",
        "    self.st=st\n",
        "    self.ed=ed\n",
        "    self.n=n\n",
        "  def generate_x_y(self):\n",
        "   self.x=[]\n",
        "   self.y=[]\n",
        "   self.dx=(self.end-self.st)/(self.n-1)\n",
        "   for i in range(self.n):\n",
        "     x_=self. st+ self.dx*i\n",
        "     self.x.append(x_)\n",
        "     self.y.append(math.sin(x_))\n",
        "  def plot(self):\n",
        "    plt.plot(self.x,self.y)\n",
        "    plt.show()"
      ],
      "metadata": {
        "id": "8XJNyDz4jQQ-"
      },
      "execution_count": null,
      "outputs": []
    },
    {
      "cell_type": "code",
      "source": [
        "g1=sin_graph()\n",
        "g1.st=0\n",
        "g1.end=2*math.pi\n",
        "g1.n=10\n",
        "\n",
        "g1.generate_x_y()\n",
        "g1.plot()"
      ],
      "metadata": {
        "id": "GQj4daHC-gyc",
        "outputId": "db43165f-3ffd-4d7f-ae41-434625900808",
        "colab": {
          "base_uri": "https://localhost:8080/",
          "height": 265
        }
      },
      "execution_count": null,
      "outputs": [
        {
          "output_type": "display_data",
          "data": {
            "text/plain": [
              "<Figure size 432x288 with 1 Axes>"
            ],
            "image/png": "[encoded data removed]"
          },
          "metadata": {
            "needs_background": "light"
          }
        }
      ]
    },
    {
      "cell_type": "code",
      "source": [
        "class sin_graph:\n",
        "  def setting(self, st, ed, n):\n",
        "    self.st=st\n",
        "    self.ed=ed\n",
        "    self.n=n\n",
        "  def generate_x_y(self):\n",
        "   self.x=[]\n",
        "   self.y=[]\n",
        "   self.dx=(self.ed-self.st)/(self.n-1)\n",
        "   for i in range(self.n):\n",
        "     x_=self. st+ self.dx*i\n",
        "     self.x.append(x_)\n",
        "     self.y.append(math.sin(x_))\n",
        "  def plot(self):\n",
        "    plt.plot(self.x,self.y)\n",
        "    plt.show()"
      ],
      "metadata": {
        "id": "I-ggc2zE-gwa"
      },
      "execution_count": null,
      "outputs": []
    },
    {
      "cell_type": "code",
      "source": [
        "g1=sin_graph()\n",
        "g1.setting(0,2*math.pi,100)\n",
        "g1.generate_x_y()\n",
        "g1.plot()"
      ],
      "metadata": {
        "id": "CWuKpxBV9x8n",
        "outputId": "50a51dbe-22d0-49b3-b51c-78b589b31e2b",
        "colab": {
          "base_uri": "https://localhost:8080/",
          "height": 265
        }
      },
      "execution_count": null,
      "outputs": [
        {
          "output_type": "display_data",
          "data": {
            "text/plain": [
              "<Figure size 432x288 with 1 Axes>"
            ],
            "image/png": "[encoded data removed]"
          },
          "metadata": {
            "needs_background": "light"
          }
        }
      ]
    },
    {
      "cell_type": "code",
      "source": [
        "class const:\n",
        "  def __init__(self):\n",
        "   print(\"new~\")\n",
        "\n",
        "o1=const()\n",
        "o2=const()"
      ],
      "metadata": {
        "id": "VF3Z3um4jQTM",
        "outputId": "045a35ab-e3c0-46f6-f761-a71371ad3745",
        "colab": {
          "base_uri": "https://localhost:8080/"
        }
      },
      "execution_count": null,
      "outputs": [
        {
          "output_type": "stream",
          "name": "stdout",
          "text": [
            "new~\n",
            "new~\n"
          ]
        }
      ]
    },
    {
      "cell_type": "code",
      "source": [
        "class const:\n",
        "  def __init__(self,n1,n2):\n",
        "     self.n1=n1\n",
        "     self.n2=n2\n",
        "  def show_data(self):\n",
        "     print(self.n1, self.n2)\n",
        "\n",
        "o1=const(1,2)\n",
        "o2=const(3,4)"
      ],
      "metadata": {
        "id": "BOHRVv9J9x-3"
      },
      "execution_count": null,
      "outputs": []
    },
    {
      "cell_type": "code",
      "source": [
        "o1.show_data()\n",
        "o2.show_data()"
      ],
      "metadata": {
        "id": "hMZm-EYjCIEk",
        "outputId": "de22e4ef-9a26-4c59-95bd-f5146ae69b59",
        "colab": {
          "base_uri": "https://localhost:8080/"
        }
      },
      "execution_count": null,
      "outputs": [
        {
          "output_type": "stream",
          "name": "stdout",
          "text": [
            "1 2\n",
            "3 4\n"
          ]
        }
      ]
    }
  ],
  "metadata": {
    "colab": {
      "collapsed_sections": [],
      "toc_visible": true,
      "provenance": [],
      "include_colab_link": true
    },
    "kernelspec": {
      "display_name": "Python 3",
      "name": "python3"
    }
  },
  "nbformat": 4,
  "nbformat_minor": 0
}