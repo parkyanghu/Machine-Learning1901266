{
  "nbformat": 4,
  "nbformat_minor": 0,
  "metadata": {
    "colab": {
      "provenance": [],
      "collapsed_sections": [],
      "authorship_tag": "ABX9TyPZkObT4165GC5LBV3th7Du",
      "include_colab_link": true
    },
    "kernelspec": {
      "name": "python3",
      "display_name": "Python 3"
    },
    "language_info": {
      "name": "python"
    }
  },
  "cells": [
    {
      "cell_type": "markdown",
      "metadata": {
        "id": "view-in-github",
        "colab_type": "text"
      },
      "source": [
        "<a href=\"https://colab.research.google.com/github/parkyanghu/Machine-Learning1901266/blob/main/3%EA%B0%95%EA%B3%BC%EC%A0%9C%EB%B3%B4%EA%B0%95%ED%94%84%EB%A1%9C%EC%A0%9D%ED%8A%B8.ipynb\" target=\"_parent\"><img src=\"https://colab.research.google.com/assets/colab-badge.svg\" alt=\"Open In Colab\"/></a>"
      ]
    },
    {
      "cell_type": "code",
      "source": [
        "class text_static:\n",
        " def processLine(self, line, wordCounts):\n",
        "  line = self.replacePunctuations(line) \n",
        "  words = line.split()\n",
        "  for word in words:\n",
        "   if word in wordCounts:\n",
        "    wordCounts[word] += 1\n",
        "   else:\n",
        "    wordCounts[word] = 1\n",
        " def replacePunctuations(self, line):\n",
        "  for ch in line:\n",
        "   if ch in \".,;:\":\n",
        "    line = line.replace(ch, \" \")\n",
        "  return line\n",
        " def wordCount(self, filename):\n",
        "  f = open(\"I_have_a_dream.txt\",\"r\")\n",
        "  lines = f.readlines()\n",
        "  wordCounts = {} \n",
        "  for line in lines:\n",
        "   self.processLine(line.lower(), wordCounts)\n",
        "  return wordCounts\n",
        " def arrange_pairs(self, wordCounts):\n",
        "  pairs = list(wordCounts.items()) \n",
        "  items = [[x,y] for (y,x) in pairs]\n",
        "  items.sort()\n",
        "  items = {x:y for [y,x] in items}\n",
        "  return items"
      ],
      "metadata": {
        "id": "Sj3q6K4HMEb8"
      },
      "execution_count": 170,
      "outputs": []
    },
    {
      "cell_type": "code",
      "source": [
        "t=text_static()\n",
        "fn=\"I_have_a_dream.txt\"\n",
        "wordCount=t.wordCounts{fn}\n",
        "wordCount=t.arrange_pairs{wordCounts}"
      ],
      "metadata": {
        "colab": {
          "base_uri": "https://localhost:8080/",
          "height": 137
        },
        "id": "7Aatk4pp8ik6",
        "outputId": "474e10c4-7077-4c38-fe72-d6c22d790c3a"
      },
      "execution_count": 172,
      "outputs": [
        {
          "output_type": "error",
          "ename": "SyntaxError",
          "evalue": "ignored",
          "traceback": [
            "\u001b[0;36m  File \u001b[0;32m\"<ipython-input-172-647cfe9eab1e>\"\u001b[0;36m, line \u001b[0;32m3\u001b[0m\n\u001b[0;31m    wordCount=t.wordCounts{fn}\u001b[0m\n\u001b[0m                          ^\u001b[0m\n\u001b[0;31mSyntaxError\u001b[0m\u001b[0;31m:\u001b[0m invalid syntax\n"
          ]
        }
      ]
    },
    {
      "cell_type": "code",
      "source": [],
      "metadata": {
        "id": "-ogddkzHTLPa"
      },
      "execution_count": null,
      "outputs": []
    }
  ]
}